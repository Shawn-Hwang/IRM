{
 "cells": [
  {
   "cell_type": "code",
   "execution_count": 1,
   "metadata": {},
   "outputs": [
    {
     "name": "stdout",
     "output_type": "stream",
     "text": [
      "Between x and x:\n",
      "MSE: 0.000000\n",
      "MAE: 0.000000\n",
      "Cosine Similarity: 1.000000\n",
      "\n",
      "Between x and 2x:\n",
      "MSE: 4.666667\n",
      "MAE: 2.000000\n",
      "Cosine Similarity: 1.000000\n",
      "\n",
      "After normalization (x and 2x):\n",
      "x normalized: tensor([0.2673, 0.5345, 0.8018])\n",
      "y normalized: tensor([0.2673, 0.5345, 0.8018])\n",
      "Are they equal after normalization? True\n"
     ]
    }
   ],
   "source": [
    "import torch\n",
    "import torch.nn.functional as F\n",
    "\n",
    "# Create two tensors that differ by a scale factor\n",
    "x = torch.tensor([1.0, 2.0, 3.0])\n",
    "y = x * 2  # y is just x scaled by 2\n",
    "\n",
    "# Calculate MSE and MAE between x and x\n",
    "mse = F.mse_loss(x, x)\n",
    "mae = F.l1_loss(x, x)\n",
    "\n",
    "# Calculate cosine similarity between x and x\n",
    "cos_sim = F.cosine_similarity(x.unsqueeze(0), x.unsqueeze(0))\n",
    "\n",
    "print(\"Between x and x:\")\n",
    "print(f\"MSE: {mse.item():.6f}\")\n",
    "print(f\"MAE: {mae.item():.6f}\")\n",
    "print(f\"Cosine Similarity: {cos_sim.item():.6f}\")\n",
    "\n",
    "print(\"\\nBetween x and 2x:\")\n",
    "# Calculate MSE and MAE between x and y (2x)\n",
    "mse = F.mse_loss(x, y)\n",
    "mae = F.l1_loss(x, y)\n",
    "\n",
    "# Calculate cosine similarity between x and y\n",
    "cos_sim = F.cosine_similarity(x.unsqueeze(0), y.unsqueeze(0))\n",
    "\n",
    "print(f\"MSE: {mse.item():.6f}\")\n",
    "print(f\"MAE: {mae.item():.6f}\")\n",
    "print(f\"Cosine Similarity: {cos_sim.item():.6f}\")\n",
    "\n",
    "# Let's visualize this with normalized vectors\n",
    "def normalize(tensor):\n",
    "    return tensor / torch.norm(tensor)\n",
    "\n",
    "norm_x = normalize(x)\n",
    "norm_y = normalize(y)\n",
    "\n",
    "print(\"\\nAfter normalization (x and 2x):\")\n",
    "print(f\"x normalized: {norm_x}\")\n",
    "print(f\"y normalized: {norm_y}\")\n",
    "print(f\"Are they equal after normalization? {torch.allclose(norm_x, norm_y)}\")"
   ]
  },
  {
   "cell_type": "code",
   "execution_count": 1,
   "metadata": {},
   "outputs": [],
   "source": [
    "dim = 4096\n",
    "hidden_dim = 4 * dim\n",
    "hidden_dim = int(2 * hidden_dim / 3)\n",
    "ffn_dim_multiplier = 1.3\n",
    "multiple_of = 1024\n",
    "if ffn_dim_multiplier is not None:\n",
    "    hidden_dim = int(ffn_dim_multiplier * hidden_dim)\n",
    "hidden_dim = multiple_of * ((hidden_dim + multiple_of - 1) // multiple_of)"
   ]
  },
  {
   "cell_type": "code",
   "execution_count": 2,
   "metadata": {},
   "outputs": [
    {
     "data": {
      "text/plain": [
       "14336"
      ]
     },
     "execution_count": 2,
     "metadata": {},
     "output_type": "execute_result"
    }
   ],
   "source": [
    "hidden_dim"
   ]
  },
  {
   "cell_type": "code",
   "execution_count": 3,
   "metadata": {},
   "outputs": [],
   "source": [
    "import torch\n",
    "from typing import Union\n",
    "\n",
    "def compare_matrix_rows(matrix1: torch.Tensor, \n",
    "                       matrix2: torch.Tensor) -> bool:\n",
    "    \"\"\"\n",
    "    Compare if two PyTorch tensors contain the same rows regardless of order.\n",
    "    \n",
    "    Args:\n",
    "        matrix1: First matrix as PyTorch tensor\n",
    "        matrix2: Second matrix as PyTorch tensor\n",
    "        \n",
    "    Returns:\n",
    "        bool: True if matrices contain same rows, False otherwise\n",
    "        \n",
    "    Example:\n",
    "        >>> m1 = torch.tensor([[1, 2], [3, 4]])\n",
    "        >>> m2 = torch.tensor([[3, 4], [1, 2]])\n",
    "        >>> compare_matrix_rows(m1, m2)\n",
    "        True\n",
    "    \"\"\"\n",
    "    # Check if shapes match\n",
    "    if matrix1.shape != matrix2.shape:\n",
    "        return False\n",
    "    \n",
    "    # Sort both matrices along rows for comparison\n",
    "    # We use lexicographical sorting\n",
    "    sorted1, _ = torch.sort(matrix1.view(-1, matrix1.shape[-1]), dim=0)\n",
    "    sorted2, _ = torch.sort(matrix2.view(-1, matrix2.shape[-1]), dim=0)\n",
    "    \n",
    "    # Compare sorted tensors\n",
    "    return torch.equal(sorted1, sorted2)\n",
    "\n",
    "# Test cases\n",
    "def run_tests():\n",
    "    # Test 1: Same rows, different order\n",
    "    m1 = torch.tensor([[1, 2], [3, 4]])\n",
    "    m2 = torch.tensor([[3, 4], [1, 2]])\n",
    "    assert compare_matrix_rows(m1, m2) == True\n",
    "    \n",
    "    # Test 2: Different rows\n",
    "    m3 = torch.tensor([[1, 2], [3, 4]])\n",
    "    m4 = torch.tensor([[1, 2], [3, 5]])\n",
    "    assert compare_matrix_rows(m3, m4) == False\n",
    "    \n",
    "    # Test 3: Different shapes\n",
    "    m5 = torch.tensor([[1, 2], [3, 4]])\n",
    "    m6 = torch.tensor([[1, 2]])\n",
    "    assert compare_matrix_rows(m5, m6) == False\n",
    "    \n",
    "    # Test 4: Same rows with duplicates\n",
    "    m7 = torch.tensor([[1, 2], [1, 2]])\n",
    "    m8 = torch.tensor([[1, 2], [1, 2]])\n",
    "    assert compare_matrix_rows(m7, m8) == True\n",
    "    \n",
    "    # Test 5: Floating point values\n",
    "    m9 = torch.tensor([[1.1, 2.2], [3.3, 4.4]])\n",
    "    m10 = torch.tensor([[3.3, 4.4], [1.1, 2.2]])\n",
    "    assert compare_matrix_rows(m9, m10) == True\n",
    "    \n",
    "    print(\"All tests passed!\")"
   ]
  },
  {
   "cell_type": "code",
   "execution_count": 4,
   "metadata": {},
   "outputs": [
    {
     "name": "stdout",
     "output_type": "stream",
     "text": [
      "All tests passed!\n"
     ]
    }
   ],
   "source": [
    "run_tests()"
   ]
  },
  {
   "cell_type": "code",
   "execution_count": 5,
   "metadata": {},
   "outputs": [
    {
     "name": "stdout",
     "output_type": "stream",
     "text": [
      "All tests passed!\n"
     ]
    }
   ],
   "source": [
    "def compare_matrix_cols(matrix1: torch.Tensor, \n",
    "                       matrix2: torch.Tensor) -> bool:\n",
    "    \"\"\"\n",
    "    Compare if two PyTorch tensors contain the same columns regardless of order.\n",
    "    \n",
    "    Args:\n",
    "        matrix1: First matrix as PyTorch tensor\n",
    "        matrix2: Second matrix as PyTorch tensor\n",
    "        \n",
    "    Returns:\n",
    "        bool: True if matrices contain same columns, False otherwise\n",
    "        \n",
    "    Example:\n",
    "        >>> m1 = torch.tensor([[1, 3], [2, 4]])  # Two columns: [1,2] and [3,4]\n",
    "        >>> m2 = torch.tensor([[3, 1], [4, 2]])  # Same columns in different order\n",
    "        >>> compare_matrix_cols(m1, m2)\n",
    "        True\n",
    "    \"\"\"\n",
    "    # Check if shapes match\n",
    "    if matrix1.shape != matrix2.shape:\n",
    "        return False\n",
    "    \n",
    "    # Sort both matrices along columns by first transposing\n",
    "    # This way each column becomes a row that we can sort\n",
    "    sorted1, _ = torch.sort(matrix1.t(), dim=0)\n",
    "    sorted2, _ = torch.sort(matrix2.t(), dim=0)\n",
    "    \n",
    "    # Compare sorted tensors\n",
    "    return torch.equal(sorted1, sorted2)\n",
    "\n",
    "# Test cases\n",
    "def run_tests():\n",
    "    # Test 1: Same columns, different order\n",
    "    m1 = torch.tensor([[1, 3], \n",
    "                      [2, 4]])  # Columns are [1,2] and [3,4]\n",
    "    m2 = torch.tensor([[3, 1], \n",
    "                      [4, 2]])  # Columns are [3,4] and [1,2]\n",
    "    assert compare_matrix_cols(m1, m2) == True\n",
    "    \n",
    "    # Test 2: Different columns\n",
    "    m3 = torch.tensor([[1, 3], \n",
    "                      [2, 4]])\n",
    "    m4 = torch.tensor([[1, 3], \n",
    "                      [2, 5]])\n",
    "    assert compare_matrix_cols(m3, m4) == False\n",
    "    \n",
    "    # Test 3: Different shapes\n",
    "    m5 = torch.tensor([[1, 3], \n",
    "                      [2, 4]])\n",
    "    m6 = torch.tensor([[1], \n",
    "                      [2]])\n",
    "    assert compare_matrix_cols(m5, m6) == False\n",
    "    \n",
    "    # Test 4: Same columns with duplicates\n",
    "    m7 = torch.tensor([[1, 1], \n",
    "                      [2, 2]])\n",
    "    m8 = torch.tensor([[1, 1], \n",
    "                      [2, 2]])\n",
    "    assert compare_matrix_cols(m7, m8) == True\n",
    "    \n",
    "    # Test 5: Floating point values\n",
    "    m9 = torch.tensor([[1.1, 3.3], \n",
    "                      [2.2, 4.4]])\n",
    "    m10 = torch.tensor([[3.3, 1.1], \n",
    "                       [4.4, 2.2]])\n",
    "    assert compare_matrix_cols(m9, m10) == True\n",
    "    \n",
    "    # Test 6: Larger matrices\n",
    "    m11 = torch.tensor([[1, 4, 7],\n",
    "                       [2, 5, 8],\n",
    "                       [3, 6, 9]])\n",
    "    m12 = torch.tensor([[7, 1, 4],\n",
    "                       [8, 2, 5],\n",
    "                       [9, 3, 6]])\n",
    "    assert compare_matrix_cols(m11, m12) == True\n",
    "    \n",
    "    print(\"All tests passed!\")\n",
    "run_tests()"
   ]
  }
 ],
 "metadata": {
  "kernelspec": {
   "display_name": "irm",
   "language": "python",
   "name": "python3"
  },
  "language_info": {
   "codemirror_mode": {
    "name": "ipython",
    "version": 3
   },
   "file_extension": ".py",
   "mimetype": "text/x-python",
   "name": "python",
   "nbconvert_exporter": "python",
   "pygments_lexer": "ipython3",
   "version": "3.10.14"
  }
 },
 "nbformat": 4,
 "nbformat_minor": 2
}
